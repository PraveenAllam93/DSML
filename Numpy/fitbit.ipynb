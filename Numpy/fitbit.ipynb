{
 "cells": [
  {
   "cell_type": "code",
   "execution_count": 1,
   "id": "bd852d7c",
   "metadata": {},
   "outputs": [],
   "source": [
    "import numpy as np\n"
   ]
  },
  {
   "cell_type": "code",
   "execution_count": 2,
   "id": "28f2493a",
   "metadata": {},
   "outputs": [],
   "source": [
    "data = np.loadtxt(\"/Users/praveenallam/Downloads/fit.txt\", dtype = \"str\")"
   ]
  },
  {
   "cell_type": "code",
   "execution_count": 7,
   "id": "240d5906",
   "metadata": {},
   "outputs": [
    {
     "data": {
      "text/plain": [
       "(96, 6)"
      ]
     },
     "execution_count": 7,
     "metadata": {},
     "output_type": "execute_result"
    }
   ],
   "source": [
    "data.shape"
   ]
  },
  {
   "cell_type": "code",
   "execution_count": 4,
   "id": "6b3cef1e",
   "metadata": {},
   "outputs": [
    {
     "data": {
      "text/plain": [
       "array([['06-10-2017', '5464', 'Neutral', '181', '5', 'Inactive'],\n",
       "       ['07-10-2017', '6041', 'Sad', '197', '8', 'Inactive'],\n",
       "       ['08-10-2017', '25', 'Sad', '0', '5', 'Inactive'],\n",
       "       ['09-10-2017', '5461', 'Sad', '174', '4', 'Inactive'],\n",
       "       ['10-10-2017', '6915', 'Neutral', '223', '5', 'Active']],\n",
       "      dtype='<U10')"
      ]
     },
     "execution_count": 4,
     "metadata": {},
     "output_type": "execute_result"
    }
   ],
   "source": [
    "data[:5]"
   ]
  },
  {
   "cell_type": "code",
   "execution_count": 17,
   "id": "ee1820b7",
   "metadata": {},
   "outputs": [],
   "source": [
    "date, steps_count, mood, calories_burned, hours_slept, activity_status = data.T"
   ]
  },
  {
   "cell_type": "code",
   "execution_count": 18,
   "id": "fa793bc7",
   "metadata": {},
   "outputs": [
    {
     "data": {
      "text/plain": [
       "(96,)"
      ]
     },
     "execution_count": 18,
     "metadata": {},
     "output_type": "execute_result"
    }
   ],
   "source": [
    "date.shape"
   ]
  },
  {
   "cell_type": "code",
   "execution_count": 19,
   "id": "c395e8d5",
   "metadata": {},
   "outputs": [
    {
     "data": {
      "text/plain": [
       "array(['06-10-2017', '07-10-2017', '08-10-2017', '09-10-2017',\n",
       "       '10-10-2017', '11-10-2017', '12-10-2017', '13-10-2017',\n",
       "       '14-10-2017', '15-10-2017', '16-10-2017', '17-10-2017',\n",
       "       '18-10-2017', '19-10-2017', '20-10-2017', '21-10-2017',\n",
       "       '22-10-2017', '23-10-2017', '24-10-2017', '25-10-2017',\n",
       "       '26-10-2017', '27-10-2017', '28-10-2017', '29-10-2017',\n",
       "       '30-10-2017', '31-10-2017', '01-11-2017', '02-11-2017',\n",
       "       '03-11-2017', '04-11-2017', '05-11-2017', '06-11-2017',\n",
       "       '07-11-2017', '08-11-2017', '09-11-2017', '10-11-2017',\n",
       "       '11-11-2017', '12-11-2017', '13-11-2017', '14-11-2017',\n",
       "       '15-11-2017', '16-11-2017', '17-11-2017', '18-11-2017',\n",
       "       '19-11-2017', '20-11-2017', '21-11-2017', '22-11-2017',\n",
       "       '23-11-2017', '24-11-2017', '25-11-2017', '26-11-2017',\n",
       "       '27-11-2017', '28-11-2017', '29-11-2017', '30-11-2017',\n",
       "       '01-12-2017', '02-12-2017', '03-12-2017', '04-12-2017',\n",
       "       '05-12-2017', '06-12-2017', '07-12-2017', '08-12-2017',\n",
       "       '09-12-2017', '10-12-2017', '11-12-2017', '12-12-2017',\n",
       "       '13-12-2017', '14-12-2017', '15-12-2017', '16-12-2017',\n",
       "       '17-12-2017', '18-12-2017', '19-12-2017', '20-12-2017',\n",
       "       '21-12-2017', '22-12-2017', '23-12-2017', '24-12-2017',\n",
       "       '25-12-2017', '26-12-2017', '27-12-2017', '28-12-2017',\n",
       "       '29-12-2017', '30-12-2017', '31-12-2017', '01-01-2018',\n",
       "       '02-01-2018', '03-01-2018', '04-01-2018', '05-01-2018',\n",
       "       '06-01-2018', '07-01-2018', '08-01-2018', '09-01-2018'],\n",
       "      dtype='<U10')"
      ]
     },
     "execution_count": 19,
     "metadata": {},
     "output_type": "execute_result"
    }
   ],
   "source": [
    "date"
   ]
  },
  {
   "cell_type": "code",
   "execution_count": 14,
   "id": "0f14c458",
   "metadata": {},
   "outputs": [
    {
     "data": {
      "text/plain": [
       "array(['5464', '6041', '25', '5461', '6915', '4545', '4340', '1230', '61',\n",
       "       '1258', '3148', '4687', '4732', '3519', '1580', '2822', '181',\n",
       "       '3158', '4383', '3881', '4037', '202', '292', '330', '2209',\n",
       "       '4550', '4435', '4779', '1831', '2255', '539', '5464', '6041',\n",
       "       '4068', '4683', '4033', '6314', '614', '3149', '4005', '4880',\n",
       "       '4136', '705', '570', '269', '4275', '5999', '4421', '6930',\n",
       "       '5195', '546', '493', '995', '1163', '6676', '3608', '774', '1421',\n",
       "       '4064', '2725', '5934', '1867', '3721', '2374', '2909', '1648',\n",
       "       '799', '7102', '3941', '7422', '437', '1231', '1696', '4921',\n",
       "       '221', '6500', '3575', '4061', '651', '753', '518', '5537', '4108',\n",
       "       '5376', '3066', '177', '36', '299', '1447', '2599', '702', '133',\n",
       "       '153', '500', '2127', '2203'], dtype='<U10')"
      ]
     },
     "execution_count": 14,
     "metadata": {},
     "output_type": "execute_result"
    }
   ],
   "source": [
    "steps_count"
   ]
  },
  {
   "cell_type": "code",
   "execution_count": 20,
   "id": "e2575623",
   "metadata": {},
   "outputs": [
    {
     "data": {
      "text/plain": [
       "array(['Neutral', 'Sad', 'Sad', 'Sad', 'Neutral', 'Sad', 'Sad', 'Sad',\n",
       "       'Sad', 'Sad', 'Sad', 'Sad', 'Happy', 'Sad', 'Sad', 'Sad', 'Sad',\n",
       "       'Neutral', 'Neutral', 'Neutral', 'Neutral', 'Neutral', 'Neutral',\n",
       "       'Happy', 'Neutral', 'Happy', 'Happy', 'Happy', 'Happy', 'Happy',\n",
       "       'Happy', 'Happy', 'Neutral', 'Happy', 'Happy', 'Happy', 'Happy',\n",
       "       'Happy', 'Happy', 'Happy', 'Happy', 'Happy', 'Happy', 'Neutral',\n",
       "       'Happy', 'Happy', 'Happy', 'Happy', 'Happy', 'Happy', 'Happy',\n",
       "       'Happy', 'Happy', 'Neutral', 'Sad', 'Happy', 'Happy', 'Happy',\n",
       "       'Happy', 'Happy', 'Happy', 'Happy', 'Sad', 'Neutral', 'Neutral',\n",
       "       'Sad', 'Sad', 'Neutral', 'Neutral', 'Happy', 'Neutral', 'Neutral',\n",
       "       'Sad', 'Neutral', 'Sad', 'Neutral', 'Neutral', 'Sad', 'Sad', 'Sad',\n",
       "       'Sad', 'Happy', 'Neutral', 'Happy', 'Neutral', 'Sad', 'Sad', 'Sad',\n",
       "       'Neutral', 'Neutral', 'Sad', 'Sad', 'Happy', 'Neutral', 'Neutral',\n",
       "       'Happy'], dtype='<U10')"
      ]
     },
     "execution_count": 20,
     "metadata": {},
     "output_type": "execute_result"
    }
   ],
   "source": [
    "mood"
   ]
  },
  {
   "cell_type": "code",
   "execution_count": 21,
   "id": "d6dbe7be",
   "metadata": {},
   "outputs": [
    {
     "data": {
      "text/plain": [
       "array(['5', '8', '5', '4', '5', '6', '6', '7', '5', '6', '8', '5', '6',\n",
       "       '7', '5', '6', '8', '5', '4', '5', '6', '8', '5', '6', '5', '8',\n",
       "       '5', '4', '5', '4', '5', '4', '3', '2', '9', '5', '6', '4', '5',\n",
       "       '8', '4', '5', '6', '5', '6', '5', '6', '5', '6', '5', '6', '7',\n",
       "       '6', '7', '6', '5', '6', '7', '8', '8', '7', '8', '5', '4', '3',\n",
       "       '3', '4', '5', '5', '5', '3', '4', '4', '5', '5', '5', '5', '5',\n",
       "       '5', '4', '3', '4', '5', '5', '4', '5', '3', '3', '3', '2', '3',\n",
       "       '2', '8', '5', '5', '5'], dtype='<U10')"
      ]
     },
     "execution_count": 21,
     "metadata": {},
     "output_type": "execute_result"
    }
   ],
   "source": [
    "hours_slept"
   ]
  },
  {
   "cell_type": "code",
   "execution_count": 22,
   "id": "1c6e7aef",
   "metadata": {},
   "outputs": [
    {
     "data": {
      "text/plain": [
       "array(['Inactive', 'Inactive', 'Inactive', 'Inactive', 'Active',\n",
       "       'Inactive', 'Inactive', 'Inactive', 'Inactive', 'Inactive',\n",
       "       'Inactive', 'Inactive', 'Active', 'Inactive', 'Inactive',\n",
       "       'Inactive', 'Inactive', 'Inactive', 'Inactive', 'Inactive',\n",
       "       'Inactive', 'Inactive', 'Inactive', 'Inactive', 'Inactive',\n",
       "       'Active', 'Inactive', 'Inactive', 'Inactive', 'Inactive', 'Active',\n",
       "       'Inactive', 'Inactive', 'Inactive', 'Inactive', 'Inactive',\n",
       "       'Active', 'Active', 'Active', 'Active', 'Active', 'Active',\n",
       "       'Active', 'Active', 'Active', 'Inactive', 'Inactive', 'Inactive',\n",
       "       'Inactive', 'Inactive', 'Inactive', 'Active', 'Active', 'Active',\n",
       "       'Active', 'Active', 'Active', 'Active', 'Active', 'Active',\n",
       "       'Active', 'Active', 'Active', 'Inactive', 'Active', 'Active',\n",
       "       'Inactive', 'Active', 'Active', 'Active', 'Active', 'Active',\n",
       "       'Inactive', 'Active', 'Active', 'Active', 'Active', 'Inactive',\n",
       "       'Inactive', 'Inactive', 'Inactive', 'Active', 'Active', 'Active',\n",
       "       'Active', 'Inactive', 'Inactive', 'Inactive', 'Inactive',\n",
       "       'Inactive', 'Inactive', 'Inactive', 'Inactive', 'Active',\n",
       "       'Inactive', 'Active'], dtype='<U10')"
      ]
     },
     "execution_count": 22,
     "metadata": {},
     "output_type": "execute_result"
    }
   ],
   "source": [
    "activity_status"
   ]
  },
  {
   "cell_type": "code",
   "execution_count": 23,
   "id": "831c4420",
   "metadata": {},
   "outputs": [],
   "source": [
    "hours_slept = np.array(hours_slept, dtype = \"int\")"
   ]
  },
  {
   "cell_type": "code",
   "execution_count": 24,
   "id": "e64c4279",
   "metadata": {},
   "outputs": [
    {
     "data": {
      "text/plain": [
       "array([5, 8, 5, 4, 5, 6, 6, 7, 5, 6, 8, 5, 6, 7, 5, 6, 8, 5, 4, 5, 6, 8,\n",
       "       5, 6, 5, 8, 5, 4, 5, 4, 5, 4, 3, 2, 9, 5, 6, 4, 5, 8, 4, 5, 6, 5,\n",
       "       6, 5, 6, 5, 6, 5, 6, 7, 6, 7, 6, 5, 6, 7, 8, 8, 7, 8, 5, 4, 3, 3,\n",
       "       4, 5, 5, 5, 3, 4, 4, 5, 5, 5, 5, 5, 5, 4, 3, 4, 5, 5, 4, 5, 3, 3,\n",
       "       3, 2, 3, 2, 8, 5, 5, 5])"
      ]
     },
     "execution_count": 24,
     "metadata": {},
     "output_type": "execute_result"
    }
   ],
   "source": [
    "hours_slept"
   ]
  },
  {
   "cell_type": "code",
   "execution_count": 25,
   "id": "65aa9b7c",
   "metadata": {},
   "outputs": [],
   "source": [
    "steps_count = np.array(steps_count, dtype = \"int\")"
   ]
  },
  {
   "cell_type": "code",
   "execution_count": 26,
   "id": "82acb9a6",
   "metadata": {},
   "outputs": [
    {
     "data": {
      "text/plain": [
       "array([5464, 6041,   25, 5461, 6915, 4545, 4340, 1230,   61, 1258, 3148,\n",
       "       4687, 4732, 3519, 1580, 2822,  181, 3158, 4383, 3881, 4037,  202,\n",
       "        292,  330, 2209, 4550, 4435, 4779, 1831, 2255,  539, 5464, 6041,\n",
       "       4068, 4683, 4033, 6314,  614, 3149, 4005, 4880, 4136,  705,  570,\n",
       "        269, 4275, 5999, 4421, 6930, 5195,  546,  493,  995, 1163, 6676,\n",
       "       3608,  774, 1421, 4064, 2725, 5934, 1867, 3721, 2374, 2909, 1648,\n",
       "        799, 7102, 3941, 7422,  437, 1231, 1696, 4921,  221, 6500, 3575,\n",
       "       4061,  651,  753,  518, 5537, 4108, 5376, 3066,  177,   36,  299,\n",
       "       1447, 2599,  702,  133,  153,  500, 2127, 2203])"
      ]
     },
     "execution_count": 26,
     "metadata": {},
     "output_type": "execute_result"
    }
   ],
   "source": [
    "steps_count"
   ]
  },
  {
   "cell_type": "code",
   "execution_count": 28,
   "id": "435df401",
   "metadata": {},
   "outputs": [
    {
     "data": {
      "text/plain": [
       "7422"
      ]
     },
     "execution_count": 28,
     "metadata": {},
     "output_type": "execute_result"
    }
   ],
   "source": [
    "max_step_count = np.max(steps_count)\n",
    "max_step_count"
   ]
  },
  {
   "cell_type": "code",
   "execution_count": 29,
   "id": "76916ef8",
   "metadata": {},
   "outputs": [
    {
     "data": {
      "text/plain": [
       "25"
      ]
     },
     "execution_count": 29,
     "metadata": {},
     "output_type": "execute_result"
    }
   ],
   "source": [
    "min_step_count = np.min(steps_count)\n",
    "min_step_count"
   ]
  },
  {
   "cell_type": "code",
   "execution_count": 31,
   "id": "75659694",
   "metadata": {},
   "outputs": [
    {
     "data": {
      "text/plain": [
       "'14-12-2017'"
      ]
     },
     "execution_count": 31,
     "metadata": {},
     "output_type": "execute_result"
    }
   ],
   "source": [
    "date_on_max_step_count = date[np.argmax(steps_count)]\n",
    "date_on_max_step_count"
   ]
  },
  {
   "cell_type": "code",
   "execution_count": 32,
   "id": "592389e4",
   "metadata": {},
   "outputs": [
    {
     "data": {
      "text/plain": [
       "'08-10-2017'"
      ]
     },
     "execution_count": 32,
     "metadata": {},
     "output_type": "execute_result"
    }
   ],
   "source": [
    "date_on_min_step_count = date[np.argmin(steps_count)]\n",
    "date_on_min_step_count"
   ]
  },
  {
   "cell_type": "code",
   "execution_count": 34,
   "id": "7c96de65",
   "metadata": {},
   "outputs": [
    {
     "data": {
      "text/plain": [
       "2935.9375"
      ]
     },
     "execution_count": 34,
     "metadata": {},
     "output_type": "execute_result"
    }
   ],
   "source": [
    "step_count_avg = steps_count.mean()\n",
    "step_count_avg"
   ]
  },
  {
   "cell_type": "code",
   "execution_count": 35,
   "id": "cff6f4bd",
   "metadata": {},
   "outputs": [
    {
     "data": {
      "text/plain": [
       "array(['Sad', 'Sad', 'Sad', 'Sad', 'Sad', 'Sad', 'Sad', 'Neutral',\n",
       "       'Neutral', 'Happy', 'Neutral', 'Happy', 'Happy', 'Happy', 'Happy',\n",
       "       'Happy', 'Neutral', 'Happy', 'Happy', 'Happy', 'Happy', 'Neutral',\n",
       "       'Happy', 'Happy', 'Happy', 'Happy', 'Neutral', 'Neutral', 'Sad',\n",
       "       'Sad', 'Neutral', 'Neutral', 'Sad', 'Sad', 'Sad', 'Sad', 'Sad',\n",
       "       'Sad', 'Sad', 'Sad', 'Neutral', 'Neutral', 'Sad', 'Sad', 'Happy',\n",
       "       'Neutral', 'Neutral', 'Happy'], dtype='<U10')"
      ]
     },
     "execution_count": 35,
     "metadata": {},
     "output_type": "execute_result"
    }
   ],
   "source": [
    "mood_check = mood[steps_count < step_count_avg]\n",
    "mood_check"
   ]
  },
  {
   "cell_type": "code",
   "execution_count": 37,
   "id": "e359b932",
   "metadata": {},
   "outputs": [
    {
     "data": {
      "text/plain": [
       "(array(['Happy', 'Neutral', 'Sad'], dtype='<U10'), array([16, 13, 19]))"
      ]
     },
     "execution_count": 37,
     "metadata": {},
     "output_type": "execute_result"
    }
   ],
   "source": [
    "np.unique(mood_check, return_counts = True)"
   ]
  },
  {
   "cell_type": "code",
   "execution_count": 38,
   "id": "eecfa3c3",
   "metadata": {},
   "outputs": [
    {
     "data": {
      "text/plain": [
       "(array(['Happy', 'Neutral', 'Sad'], dtype='<U10'), array([40, 27, 29]))"
      ]
     },
     "execution_count": 38,
     "metadata": {},
     "output_type": "execute_result"
    }
   ],
   "source": [
    "np.unique(mood, return_counts = True)"
   ]
  },
  {
   "cell_type": "code",
   "execution_count": 39,
   "id": "b755eede",
   "metadata": {},
   "outputs": [
    {
     "data": {
      "text/plain": [
       "(array(['Happy', 'Neutral', 'Sad'], dtype='<U10'), array([10,  5, 13]))"
      ]
     },
     "execution_count": 39,
     "metadata": {},
     "output_type": "execute_result"
    }
   ],
   "source": [
    "np.unique(mood[steps_count < 1000], return_counts = True)"
   ]
  },
  {
   "cell_type": "code",
   "execution_count": 40,
   "id": "a6f97623",
   "metadata": {},
   "outputs": [
    {
     "data": {
      "text/plain": [
       "(array(['Happy', 'Neutral', 'Sad'], dtype='<U10'), array([13,  8, 18]))"
      ]
     },
     "execution_count": 40,
     "metadata": {},
     "output_type": "execute_result"
    }
   ],
   "source": [
    "np.unique(mood[steps_count < 2000], return_counts = True)"
   ]
  },
  {
   "cell_type": "code",
   "execution_count": 41,
   "id": "3fdb21c5",
   "metadata": {},
   "outputs": [
    {
     "data": {
      "text/plain": [
       "(array(['Happy', 'Neutral', 'Sad'], dtype='<U10'), array([15, 11, 18]))"
      ]
     },
     "execution_count": 41,
     "metadata": {},
     "output_type": "execute_result"
    }
   ],
   "source": [
    "np.unique(mood[steps_count < 2500], return_counts = True)"
   ]
  },
  {
   "cell_type": "code",
   "execution_count": 42,
   "id": "25e0054c",
   "metadata": {},
   "outputs": [
    {
     "data": {
      "text/plain": [
       "(array(['Happy', 'Neutral', 'Sad'], dtype='<U10'), array([16, 13, 19]))"
      ]
     },
     "execution_count": 42,
     "metadata": {},
     "output_type": "execute_result"
    }
   ],
   "source": [
    "np.unique(mood[steps_count < 3000], return_counts = True)"
   ]
  },
  {
   "cell_type": "code",
   "execution_count": 43,
   "id": "900057ef",
   "metadata": {},
   "outputs": [
    {
     "data": {
      "text/plain": [
       "(array(['Happy', 'Neutral', 'Sad'], dtype='<U10'), array([17, 15, 20]))"
      ]
     },
     "execution_count": 43,
     "metadata": {},
     "output_type": "execute_result"
    }
   ],
   "source": [
    "np.unique(mood[steps_count < 3500], return_counts = True)"
   ]
  },
  {
   "cell_type": "code",
   "execution_count": 44,
   "id": "7f790be9",
   "metadata": {},
   "outputs": [
    {
     "data": {
      "text/plain": [
       "(array(['Happy', 'Neutral', 'Sad'], dtype='<U10'), array([18, 18, 22]))"
      ]
     },
     "execution_count": 44,
     "metadata": {},
     "output_type": "execute_result"
    }
   ],
   "source": [
    "np.unique(mood[steps_count < 4000], return_counts = True)"
   ]
  },
  {
   "cell_type": "code",
   "execution_count": 45,
   "id": "98a11c13",
   "metadata": {},
   "outputs": [
    {
     "data": {
      "text/plain": [
       "(array(['Happy', 'Neutral', 'Sad'], dtype='<U10'), array([31, 22, 26]))"
      ]
     },
     "execution_count": 45,
     "metadata": {},
     "output_type": "execute_result"
    }
   ],
   "source": [
    "np.unique(mood[steps_count < 5000], return_counts = True)"
   ]
  },
  {
   "cell_type": "code",
   "execution_count": 46,
   "id": "96a38406",
   "metadata": {},
   "outputs": [
    {
     "data": {
      "text/plain": [
       "(array(['Happy', 'Neutral', 'Sad'], dtype='<U10'), array([26, 21, 24]))"
      ]
     },
     "execution_count": 46,
     "metadata": {},
     "output_type": "execute_result"
    }
   ],
   "source": [
    "np.unique(mood[steps_count < 4500], return_counts = True)"
   ]
  },
  {
   "cell_type": "code",
   "execution_count": 53,
   "id": "d3d4ed0a",
   "metadata": {},
   "outputs": [
    {
     "data": {
      "text/plain": [
       "2"
      ]
     },
     "execution_count": 53,
     "metadata": {},
     "output_type": "execute_result"
    }
   ],
   "source": [
    "min_hours_slept = np.min(hours_slept)\n",
    "min_hours_slept"
   ]
  },
  {
   "cell_type": "code",
   "execution_count": 54,
   "id": "9d9b0e80",
   "metadata": {},
   "outputs": [
    {
     "data": {
      "text/plain": [
       "9"
      ]
     },
     "execution_count": 54,
     "metadata": {},
     "output_type": "execute_result"
    }
   ],
   "source": [
    "max_hours_slept = np.max(hours_slept)\n",
    "max_hours_slept"
   ]
  },
  {
   "cell_type": "code",
   "execution_count": 48,
   "id": "8444ffa2",
   "metadata": {},
   "outputs": [
    {
     "data": {
      "text/plain": [
       "5.21875"
      ]
     },
     "execution_count": 48,
     "metadata": {},
     "output_type": "execute_result"
    }
   ],
   "source": [
    "sleep_mean = np.mean(hours_slept)\n",
    "sleep_mean"
   ]
  },
  {
   "cell_type": "code",
   "execution_count": 49,
   "id": "722669b9",
   "metadata": {},
   "outputs": [
    {
     "data": {
      "text/plain": [
       "(array(['Happy', 'Neutral', 'Sad'], dtype='<U10'), array([20, 24, 19]))"
      ]
     },
     "execution_count": 49,
     "metadata": {},
     "output_type": "execute_result"
    }
   ],
   "source": [
    "np.unique(mood[hours_slept < sleep_mean], return_counts = True)"
   ]
  },
  {
   "cell_type": "code",
   "execution_count": 50,
   "id": "e8b1c11f",
   "metadata": {},
   "outputs": [
    {
     "data": {
      "text/plain": [
       "(array(['Happy', 'Neutral', 'Sad'], dtype='<U10'), array([20,  3, 10]))"
      ]
     },
     "execution_count": 50,
     "metadata": {},
     "output_type": "execute_result"
    }
   ],
   "source": [
    "np.unique(mood[hours_slept >= sleep_mean], return_counts = True)"
   ]
  },
  {
   "cell_type": "code",
   "execution_count": 51,
   "id": "cbb0835a",
   "metadata": {},
   "outputs": [
    {
     "data": {
      "text/plain": [
       "(array(['Happy', 'Neutral', 'Sad'], dtype='<U10'), array([1, 1, 1]))"
      ]
     },
     "execution_count": 51,
     "metadata": {},
     "output_type": "execute_result"
    }
   ],
   "source": [
    "np.unique(mood[hours_slept < 3], return_counts = True)"
   ]
  },
  {
   "cell_type": "code",
   "execution_count": 55,
   "id": "475bcf9e",
   "metadata": {},
   "outputs": [
    {
     "data": {
      "text/plain": [
       "(array(['Happy', 'Neutral', 'Sad'], dtype='<U10'), array([1, 5, 6]))"
      ]
     },
     "execution_count": 55,
     "metadata": {},
     "output_type": "execute_result"
    }
   ],
   "source": [
    "np.unique(mood[hours_slept < 4], return_counts = True)"
   ]
  },
  {
   "cell_type": "code",
   "execution_count": 56,
   "id": "9a9437e1",
   "metadata": {},
   "outputs": [
    {
     "data": {
      "text/plain": [
       "(array(['Happy', 'Neutral', 'Sad'], dtype='<U10'), array([7, 1, 3]))"
      ]
     },
     "execution_count": 56,
     "metadata": {},
     "output_type": "execute_result"
    }
   ],
   "source": [
    "np.unique(mood[hours_slept > 7 ], return_counts = True)"
   ]
  },
  {
   "cell_type": "code",
   "execution_count": 57,
   "id": "bb53745c",
   "metadata": {},
   "outputs": [
    {
     "data": {
      "text/plain": [
       "(array(['Happy', 'Neutral', 'Sad'], dtype='<U10'), array([10,  2,  5]))"
      ]
     },
     "execution_count": 57,
     "metadata": {},
     "output_type": "execute_result"
    }
   ],
   "source": [
    "np.unique(mood[hours_slept > 6], return_counts = True)"
   ]
  },
  {
   "cell_type": "code",
   "execution_count": 59,
   "id": "6ec0158e",
   "metadata": {},
   "outputs": [
    {
     "data": {
      "text/plain": [
       "(array(['Active', 'Inactive'], dtype='<U10'), array([42, 54]))"
      ]
     },
     "execution_count": 59,
     "metadata": {},
     "output_type": "execute_result"
    }
   ],
   "source": [
    "np.unique(activity_status, return_counts = True)"
   ]
  },
  {
   "cell_type": "code",
   "execution_count": 60,
   "id": "1d71e01e",
   "metadata": {},
   "outputs": [],
   "source": [
    "active = activity_status == 'Active'"
   ]
  },
  {
   "cell_type": "code",
   "execution_count": 67,
   "id": "61b599ef",
   "metadata": {},
   "outputs": [
    {
     "data": {
      "text/plain": [
       "array([5, 6, 8, 5, 6, 4, 5, 8, 4, 5, 6, 5, 6, 7, 6, 7, 6, 5, 6, 7, 8, 8,\n",
       "       7, 8, 5, 3, 3, 5, 5, 5, 3, 4, 5, 5, 5, 5, 4, 5, 5, 4, 5, 5])"
      ]
     },
     "execution_count": 67,
     "metadata": {},
     "output_type": "execute_result"
    }
   ],
   "source": [
    "sleep_hours_active = hours_slept[active]\n",
    "sleep_hours_active"
   ]
  },
  {
   "cell_type": "code",
   "execution_count": 62,
   "id": "77ce9270",
   "metadata": {},
   "outputs": [
    {
     "data": {
      "text/plain": [
       "(array([3, 4, 5, 6, 7, 8]), array([ 3,  5, 18,  7,  4,  5]))"
      ]
     },
     "execution_count": 62,
     "metadata": {},
     "output_type": "execute_result"
    }
   ],
   "source": [
    "np.unique(sleep_hours_active, return_counts = True)"
   ]
  },
  {
   "cell_type": "code",
   "execution_count": 68,
   "id": "7965d278",
   "metadata": {},
   "outputs": [
    {
     "data": {
      "text/plain": [
       "array([5, 8, 5, 4, 6, 6, 7, 5, 6, 8, 5, 7, 5, 6, 8, 5, 4, 5, 6, 8, 5, 6,\n",
       "       5, 5, 4, 5, 4, 4, 3, 2, 9, 5, 5, 6, 5, 6, 5, 6, 4, 4, 4, 5, 5, 4,\n",
       "       3, 5, 3, 3, 3, 2, 3, 2, 8, 5])"
      ]
     },
     "execution_count": 68,
     "metadata": {},
     "output_type": "execute_result"
    }
   ],
   "source": [
    "sleep_hours_inactive = hours_slept[~active]\n",
    "sleep_hours_inactive"
   ]
  },
  {
   "cell_type": "code",
   "execution_count": 65,
   "id": "ed0aa63c",
   "metadata": {},
   "outputs": [
    {
     "data": {
      "text/plain": [
       "(array([2, 3, 4, 5, 6, 7, 8, 9]), array([ 3,  6,  9, 19,  9,  2,  5,  1]))"
      ]
     },
     "execution_count": 65,
     "metadata": {},
     "output_type": "execute_result"
    }
   ],
   "source": [
    "np.unique(sleep_hours_inactive, return_counts = True)"
   ]
  },
  {
   "cell_type": "code",
   "execution_count": 66,
   "id": "10bab022",
   "metadata": {},
   "outputs": [
    {
     "data": {
      "text/plain": [
       "(array(['Active', 'Inactive'], dtype='<U10'), array([5, 6]))"
      ]
     },
     "execution_count": 66,
     "metadata": {},
     "output_type": "execute_result"
    }
   ],
   "source": [
    "np.unique(activity_status[hours_slept > 7], return_counts = True)"
   ]
  },
  {
   "cell_type": "code",
   "execution_count": 69,
   "id": "a6d66ee6",
   "metadata": {},
   "outputs": [
    {
     "data": {
      "text/plain": [
       "(array(['Active', 'Inactive'], dtype='<U10'), array([ 8, 18]))"
      ]
     },
     "execution_count": 69,
     "metadata": {},
     "output_type": "execute_result"
    }
   ],
   "source": [
    "np.unique(activity_status[hours_slept < 5], return_counts = True)"
   ]
  },
  {
   "cell_type": "code",
   "execution_count": 70,
   "id": "f33bfe51",
   "metadata": {},
   "outputs": [
    {
     "data": {
      "text/plain": [
       "(array(['Active', 'Inactive'], dtype='<U10'), array([18, 19]))"
      ]
     },
     "execution_count": 70,
     "metadata": {},
     "output_type": "execute_result"
    }
   ],
   "source": [
    "np.unique(activity_status[hours_slept == 5], return_counts = True)"
   ]
  },
  {
   "cell_type": "code",
   "execution_count": 73,
   "id": "805475dc",
   "metadata": {},
   "outputs": [
    {
     "data": {
      "text/plain": [
       "(array(['Active', 'Inactive'], dtype='<U10'), array([5, 9]))"
      ]
     },
     "execution_count": 73,
     "metadata": {},
     "output_type": "execute_result"
    }
   ],
   "source": [
    "np.unique(activity_status[(hours_slept == 5) & (steps_count < 2500)], return_counts = True)"
   ]
  },
  {
   "cell_type": "code",
   "execution_count": 75,
   "id": "a418f3f2",
   "metadata": {},
   "outputs": [
    {
     "data": {
      "text/plain": [
       "3272.162162162162"
      ]
     },
     "execution_count": 75,
     "metadata": {},
     "output_type": "execute_result"
    }
   ],
   "source": [
    "steps_count[hours_slept==5].mean()"
   ]
  },
  {
   "cell_type": "code",
   "execution_count": 76,
   "id": "5c575f03",
   "metadata": {},
   "outputs": [
    {
     "data": {
      "text/plain": [
       "7422"
      ]
     },
     "execution_count": 76,
     "metadata": {},
     "output_type": "execute_result"
    }
   ],
   "source": [
    "steps_count[hours_slept==5].max()"
   ]
  },
  {
   "cell_type": "code",
   "execution_count": 77,
   "id": "6cc9a373",
   "metadata": {},
   "outputs": [
    {
     "data": {
      "text/plain": [
       "25"
      ]
     },
     "execution_count": 77,
     "metadata": {},
     "output_type": "execute_result"
    }
   ],
   "source": [
    "steps_count[hours_slept==5].min()"
   ]
  },
  {
   "cell_type": "code",
   "execution_count": 78,
   "id": "8c334900",
   "metadata": {},
   "outputs": [
    {
     "data": {
      "text/plain": [
       "(array(['Active', 'Inactive'], dtype='<U10'), array([ 6, 10]))"
      ]
     },
     "execution_count": 78,
     "metadata": {},
     "output_type": "execute_result"
    }
   ],
   "source": [
    "np.unique(activity_status[(hours_slept == 5) & (steps_count < 3272.162162162162)], return_counts = True)"
   ]
  },
  {
   "cell_type": "code",
   "execution_count": 79,
   "id": "1a78e998",
   "metadata": {},
   "outputs": [
    {
     "data": {
      "text/plain": [
       "(array(['Active', 'Inactive'], dtype='<U10'), array([12,  9]))"
      ]
     },
     "execution_count": 79,
     "metadata": {},
     "output_type": "execute_result"
    }
   ],
   "source": [
    "np.unique(activity_status[(hours_slept == 5) & (steps_count > 3272.162162162162)], return_counts = True)"
   ]
  },
  {
   "cell_type": "code",
   "execution_count": 80,
   "id": "98259c43",
   "metadata": {},
   "outputs": [
    {
     "data": {
      "text/plain": [
       "(array(['Active', 'Inactive'], dtype='<U10'), array([5, 2]))"
      ]
     },
     "execution_count": 80,
     "metadata": {},
     "output_type": "execute_result"
    }
   ],
   "source": [
    "np.unique(activity_status[(hours_slept == 5) & (steps_count > 5000)], return_counts = True)"
   ]
  },
  {
   "cell_type": "code",
   "execution_count": 85,
   "id": "ae7e7eed",
   "metadata": {},
   "outputs": [
    {
     "data": {
      "text/plain": [
       "(array(['Active', 'Inactive'], dtype='<U10'), array([8, 5]))"
      ]
     },
     "execution_count": 85,
     "metadata": {},
     "output_type": "execute_result"
    }
   ],
   "source": [
    "np.unique(activity_status[(hours_slept >= 5) & (steps_count > 5000)], return_counts = True)"
   ]
  },
  {
   "cell_type": "code",
   "execution_count": null,
   "id": "e72fda6c",
   "metadata": {},
   "outputs": [],
   "source": []
  }
 ],
 "metadata": {
  "kernelspec": {
   "display_name": "Python 3 (ipykernel)",
   "language": "python",
   "name": "python3"
  },
  "language_info": {
   "codemirror_mode": {
    "name": "ipython",
    "version": 3
   },
   "file_extension": ".py",
   "mimetype": "text/x-python",
   "name": "python",
   "nbconvert_exporter": "python",
   "pygments_lexer": "ipython3",
   "version": "3.9.13"
  }
 },
 "nbformat": 4,
 "nbformat_minor": 5
}
